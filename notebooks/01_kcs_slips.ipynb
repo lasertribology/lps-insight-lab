{
 "cells": [
  {
   "cell_type": "markdown",
   "id": "af1ed34a-2c7a-4c08-8969-f9777f73930b",
   "metadata": {},
   "source": [
    "# KCS Slips exploration"
   ]
  },
  {
   "cell_type": "code",
   "execution_count": 5,
   "id": "f06e6c33-a490-4621-beec-b8cef16872a8",
   "metadata": {
    "editable": true,
    "slideshow": {
     "slide_type": ""
    },
    "tags": []
   },
   "outputs": [
    {
     "ename": "NameError",
     "evalue": "name 'daily_slips' is not defined",
     "output_type": "error",
     "traceback": [
      "\u001b[31m---------------------------------------------------------------------------\u001b[39m",
      "\u001b[31mNameError\u001b[39m                                 Traceback (most recent call last)",
      "\u001b[36mCell\u001b[39m\u001b[36m \u001b[39m\u001b[32mIn[5]\u001b[39m\u001b[32m, line 22\u001b[39m\n\u001b[32m     19\u001b[39m daily_counts = kcs_slips_north.groupby(\u001b[33m'\u001b[39m\u001b[33mdate\u001b[39m\u001b[33m'\u001b[39m).size().reset_index(name=\u001b[33m'\u001b[39m\u001b[33mdaily_slip_count\u001b[39m\u001b[33m'\u001b[39m)\n\u001b[32m     21\u001b[39m \u001b[38;5;66;03m# save to csv\u001b[39;00m\n\u001b[32m---> \u001b[39m\u001b[32m22\u001b[39m \u001b[43mdaily_slips\u001b[49m.to_csv(\u001b[33mf\u001b[39m\u001b[33m\"\u001b[39m\u001b[33m../data/processed/kcs_slips_north_2024_\u001b[39m\u001b[38;5;132;01m{\u001b[39;00mi\u001b[38;5;132;01m:\u001b[39;00m\u001b[33m02d\u001b[39m\u001b[38;5;132;01m}\u001b[39;00m\u001b[33m.csv\u001b[39m\u001b[33m\"\u001b[39m, index=\u001b[38;5;28;01mFalse\u001b[39;00m)\n\u001b[32m     24\u001b[39m plt.figure(figsize=(\u001b[32m12\u001b[39m, \u001b[32m6\u001b[39m))\n\u001b[32m     25\u001b[39m plt.plot(daily_slips[\u001b[33m'\u001b[39m\u001b[33mdate\u001b[39m\u001b[33m'\u001b[39m], daily_slips[\u001b[33m'\u001b[39m\u001b[33mdaily_slip_count\u001b[39m\u001b[33m'\u001b[39m], marker=\u001b[33m'\u001b[39m\u001b[33mo\u001b[39m\u001b[33m'\u001b[39m, linestyle=\u001b[33m'\u001b[39m\u001b[33m-\u001b[39m\u001b[33m'\u001b[39m)\n",
      "\u001b[31mNameError\u001b[39m: name 'daily_slips' is not defined"
     ]
    }
   ],
   "source": [
    "import pandas as pd\n",
    "import matplotlib.pyplot as plt\n",
    "\n",
    "for i in range(1, 13):\n",
    "    kcs_slips = pd.read_csv(f\"../data/raw/kcs-slips/KCS_Slips_2024_{i:02d}.csv\", usecols=[\"datetime\", \"eqNumber\", \"Line\"])\n",
    "    kcs_slips = kcs_slips.dropna()\n",
    "    kcs_slips = kcs_slips.reset_index(drop=True)\n",
    "    # ensure datetime column is in datetime format\n",
    "    kcs_slips[\"datetime\"] = pd.to_datetime(kcs_slips[\"datetime\"], format=\"ISO8601\")\n",
    "    \n",
    "    # filter north lines\n",
    "    north_lines = [\"Fitchburg\", \"Wachusett\", \"West Route\", \"East Route\", \"Gloucester\", \"NHML\", \"Wildcat\"]\n",
    "    kcs_slips_north = kcs_slips[kcs_slips[\"Line\"].isin(north_lines)].copy()\n",
    "    \n",
    "    # add date column\n",
    "    kcs_slips_north[\"date\"] = kcs_slips_north[\"datetime\"].dt.date\n",
    "    \n",
    "    # count daily slips\n",
    "    daily_counts = kcs_slips_north.groupby('date').size().reset_index(name='daily_slip_count')\n",
    "    \n",
    "    # save to csv\n",
    "    daily_slips.to_csv(f\"../data/processed/kcs_slips_north_2024_{i:02d}.csv\", index=False)\n",
    "    \n",
    "    plt.figure(figsize=(12, 6))\n",
    "    plt.plot(daily_slips['date'], daily_slips['daily_slip_count'], marker='o', linestyle='-')\n",
    "    plt.title(f\"Daily Slip Count (North 2024-{i:02})\")\n",
    "    plt.xlabel(\"Date\")\n",
    "    plt.ylabel(\"Number of Slips\")\n",
    "    plt.xticks(rotation=45)\n",
    "    plt.grid(True)\n",
    "    plt.tight_layout()\n",
    "    plt.show()"
   ]
  },
  {
   "cell_type": "code",
   "execution_count": 10,
   "id": "6b1d2a9e-57ca-4a31-be60-c23a28d98db9",
   "metadata": {},
   "outputs": [
    {
     "data": {
      "text/plain": [
       "<pandas.core.groupby.generic.DataFrameGroupBy object at 0x16c701fd0>"
      ]
     },
     "execution_count": 10,
     "metadata": {},
     "output_type": "execute_result"
    }
   ],
   "source": [
    "kcs_slips_north.groupby(\"date\")"
   ]
  },
  {
   "cell_type": "code",
   "execution_count": null,
   "id": "eb50a84e-2932-4455-8100-6754518ffab3",
   "metadata": {},
   "outputs": [],
   "source": []
  }
 ],
 "metadata": {
  "kernelspec": {
   "display_name": "Python 3 (ipykernel)",
   "language": "python",
   "name": "python3"
  },
  "language_info": {
   "codemirror_mode": {
    "name": "ipython",
    "version": 3
   },
   "file_extension": ".py",
   "mimetype": "text/x-python",
   "name": "python",
   "nbconvert_exporter": "python",
   "pygments_lexer": "ipython3",
   "version": "3.13.7"
  }
 },
 "nbformat": 4,
 "nbformat_minor": 5
}
