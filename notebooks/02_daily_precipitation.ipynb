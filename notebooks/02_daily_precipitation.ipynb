{
 "cells": [
  {
   "cell_type": "markdown",
   "id": "d04b2510-e23d-4b1e-992e-19e055311792",
   "metadata": {},
   "source": [
    "# Daily Precipitation"
   ]
  },
  {
   "cell_type": "code",
   "execution_count": null,
   "id": "99e3da66-bcb0-4515-b573-8410431507bd",
   "metadata": {
    "editable": true,
    "slideshow": {
     "slide_type": ""
    },
    "tags": []
   },
   "outputs": [],
   "source": [
    "import pandas as pd\n",
    "import matplotlib.pyplot as plt\n",
    "\n",
    "weather_stations = [\"Boston\", \"72505914702\", \"F0642\"]\n",
    "weather_station = \"Boston\"\n",
    "year = 2024\n",
    "for i in range(1, 13):\n",
    "    weather_data = pd.read_csv(f\"../data/raw/hourly-weather-data/{weather_station}_{year}_{i:02d}.csv\", usecols=[\"datetime\", \"precip\"])\n",
    "    \n",
    "    # ensure datetime column is in datetime format\n",
    "    weather_data[\"datetime\"] = pd.to_datetime(weather_data[\"datetime\"], format=\"ISO8601\")\n",
    "        \n",
    "    # add date column\n",
    "    weather_data[\"date\"] = weather_data[\"datetime\"].dt.date\n",
    "        \n",
    "    # collect daily precipitation\n",
    "    daily_precipitation = weather_data.groupby('date')['precip'].sum().reset_index(name='daily_precipitation')\n",
    "\n",
    "    # save to csv\n",
    "    daily_precipitation.to_csv(f\"../data/processed/{weather_station}_daily_precipitation_{year}_{i:02d}.csv\", index=False)\n",
    "\n",
    "    plt.figure(figsize=(12, 6))\n",
    "    plt.plot(daily_precipitation['date'], daily_precipitation['daily_precipitation'], marker='o', linestyle='-')\n",
    "    plt.title(f\"Daily Precipitation ({weather_station} {year}-{i:02})\")\n",
    "    plt.xlabel(\"Date\")\n",
    "    plt.ylabel(\"Precipitation\")\n",
    "    plt.xticks(rotation=45)\n",
    "    plt.grid(True)\n",
    "    plt.tight_layout()\n",
    "    plt.show()"
   ]
  },
  {
   "cell_type": "code",
   "execution_count": null,
   "id": "b2399052-d2bc-4fb1-be29-98b53b5bdef3",
   "metadata": {},
   "outputs": [],
   "source": []
  }
 ],
 "metadata": {
  "kernelspec": {
   "display_name": "Python 3 (ipykernel)",
   "language": "python",
   "name": "python3"
  },
  "language_info": {
   "codemirror_mode": {
    "name": "ipython",
    "version": 3
   },
   "file_extension": ".py",
   "mimetype": "text/x-python",
   "name": "python",
   "nbconvert_exporter": "python",
   "pygments_lexer": "ipython3",
   "version": "3.13.7"
  }
 },
 "nbformat": 4,
 "nbformat_minor": 5
}
